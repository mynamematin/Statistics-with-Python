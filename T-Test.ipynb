{
 "cells": [
  {
   "cell_type": "markdown",
   "id": "9791cd4f",
   "metadata": {},
   "source": [
    "# T-Test"
   ]
  },
  {
   "cell_type": "code",
   "execution_count": 1,
   "id": "19ce656a",
   "metadata": {},
   "outputs": [],
   "source": [
    "ages=[10,12,13,23,22,24,32,33,23,23,45,55,44,34,43,32,12,16,17,27,26,38,37,39,44,46]"
   ]
  },
  {
   "cell_type": "code",
   "execution_count": 2,
   "id": "ccb18c43",
   "metadata": {},
   "outputs": [
    {
     "data": {
      "text/plain": [
       "26"
      ]
     },
     "execution_count": 2,
     "metadata": {},
     "output_type": "execute_result"
    }
   ],
   "source": [
    "len(ages)"
   ]
  },
  {
   "cell_type": "code",
   "execution_count": 4,
   "id": "7be66a0f",
   "metadata": {},
   "outputs": [
    {
     "data": {
      "text/plain": [
       "29.615384615384617"
      ]
     },
     "execution_count": 4,
     "metadata": {},
     "output_type": "execute_result"
    }
   ],
   "source": [
    "import numpy as np\n",
    "ages_mean=np.mean(ages)\n",
    "ages_mean"
   ]
  },
  {
   "cell_type": "markdown",
   "id": "ea47ac6d",
   "metadata": {},
   "source": [
    "#### Null Hypothesis H0: there no significant difference between the mean of two different group"
   ]
  },
  {
   "cell_type": "code",
   "execution_count": 5,
   "id": "7553e53b",
   "metadata": {},
   "outputs": [],
   "source": [
    "sample_size=10\n",
    "age_sample=np.random.choice(ages,sample_size)"
   ]
  },
  {
   "cell_type": "code",
   "execution_count": 6,
   "id": "4689b55e",
   "metadata": {},
   "outputs": [
    {
     "data": {
      "text/plain": [
       "array([24, 27, 26, 33, 37, 33, 23, 33, 13, 16])"
      ]
     },
     "execution_count": 6,
     "metadata": {},
     "output_type": "execute_result"
    }
   ],
   "source": [
    "age_sample"
   ]
  },
  {
   "cell_type": "code",
   "execution_count": 7,
   "id": "46215e5b",
   "metadata": {},
   "outputs": [],
   "source": [
    "from scipy.stats import ttest_1samp"
   ]
  },
  {
   "cell_type": "code",
   "execution_count": 11,
   "id": "28f9f6f9",
   "metadata": {},
   "outputs": [],
   "source": [
    "ttest,p_value=ttest_1samp(age_sample,29)"
   ]
  },
  {
   "cell_type": "code",
   "execution_count": 12,
   "id": "d22a9b6b",
   "metadata": {},
   "outputs": [
    {
     "name": "stdout",
     "output_type": "stream",
     "text": [
      "0.33766169501842597\n"
     ]
    }
   ],
   "source": [
    "print(p_value)"
   ]
  },
  {
   "cell_type": "code",
   "execution_count": 13,
   "id": "b15131eb",
   "metadata": {},
   "outputs": [
    {
     "name": "stdout",
     "output_type": "stream",
     "text": [
      "Retain H0\n"
     ]
    }
   ],
   "source": [
    "if p_value<0.05:\n",
    "    print(\"Reject H0\")\n",
    "else:\n",
    "    print(\"Retain H0\")"
   ]
  },
  {
   "cell_type": "markdown",
   "id": "fc4851e1",
   "metadata": {},
   "source": [
    "# Example2"
   ]
  },
  {
   "cell_type": "code",
   "execution_count": 14,
   "id": "f0b1c5f6",
   "metadata": {},
   "outputs": [],
   "source": [
    "import numpy as np\n",
    "import pandas as pd\n",
    "import scipy.stats as stats\n",
    "import math"
   ]
  },
  {
   "cell_type": "code",
   "execution_count": 19,
   "id": "ed81054f",
   "metadata": {},
   "outputs": [],
   "source": [
    "np.random.seed(6)\n",
    "school_ages=stats.poisson.rvs(loc=18,mu=35,size=1500)\n",
    "classA_ages=stats.poisson.rvs(loc=18,mu=30,size=60)"
   ]
  },
  {
   "cell_type": "code",
   "execution_count": 20,
   "id": "0acdaa4f",
   "metadata": {},
   "outputs": [
    {
     "data": {
      "text/plain": [
       "46.9"
      ]
     },
     "execution_count": 20,
     "metadata": {},
     "output_type": "execute_result"
    }
   ],
   "source": [
    "classA_ages.mean()"
   ]
  },
  {
   "cell_type": "code",
   "execution_count": 21,
   "id": "ebf868b3",
   "metadata": {},
   "outputs": [
    {
     "data": {
      "text/plain": [
       "array([52, 46, 40, 40, 47, 50, 51, 45, 44, 52, 46, 53, 43, 44, 51, 50, 54,\n",
       "       42, 54, 45, 61, 53, 49, 46, 47, 41, 45, 51, 43, 45, 48, 50, 40, 52,\n",
       "       44, 55, 54, 40, 45, 46, 54, 42, 46, 35, 51, 51, 46, 48, 47, 35, 52,\n",
       "       52, 39, 44, 48, 40, 42, 46, 47, 45])"
      ]
     },
     "execution_count": 21,
     "metadata": {},
     "output_type": "execute_result"
    }
   ],
   "source": [
    "classA_ages"
   ]
  },
  {
   "cell_type": "code",
   "execution_count": 22,
   "id": "3743c76a",
   "metadata": {},
   "outputs": [],
   "source": [
    "_,p_value=stats.ttest_1samp(a=classA_ages,popmean=school_ages.mean()) # single tailed test"
   ]
  },
  {
   "cell_type": "code",
   "execution_count": 23,
   "id": "796e6782",
   "metadata": {},
   "outputs": [
    {
     "data": {
      "text/plain": [
       "1.139027071016194e-13"
      ]
     },
     "execution_count": 23,
     "metadata": {},
     "output_type": "execute_result"
    }
   ],
   "source": [
    "p_value"
   ]
  },
  {
   "cell_type": "code",
   "execution_count": 25,
   "id": "6104e7cc",
   "metadata": {},
   "outputs": [
    {
     "name": "stdout",
     "output_type": "stream",
     "text": [
      "Reject H0\n"
     ]
    }
   ],
   "source": [
    "if p_value<0.05:\n",
    "    print(\"Reject H0\")\n",
    "else:\n",
    "    print(\"Retain H0\")"
   ]
  },
  {
   "cell_type": "code",
   "execution_count": null,
   "id": "3b2a37ce",
   "metadata": {},
   "outputs": [],
   "source": []
  },
  {
   "cell_type": "code",
   "execution_count": 26,
   "id": "64a6f60e",
   "metadata": {},
   "outputs": [
    {
     "data": {
      "text/plain": [
       "50.483333333333334"
      ]
     },
     "execution_count": 26,
     "metadata": {},
     "output_type": "execute_result"
    }
   ],
   "source": [
    "np.random.seed(6)\n",
    "classB_ages=stats.poisson.rvs(loc=18,mu=33,size=60)\n",
    "classB_ages.mean()"
   ]
  },
  {
   "cell_type": "code",
   "execution_count": 28,
   "id": "c8a40e4b",
   "metadata": {},
   "outputs": [],
   "source": [
    "_,p_value=stats.ttest_ind(a=classA_ages,b=classB_ages,equal_var=False) #Two-tailed test"
   ]
  },
  {
   "cell_type": "code",
   "execution_count": 29,
   "id": "035f479d",
   "metadata": {},
   "outputs": [
    {
     "name": "stdout",
     "output_type": "stream",
     "text": [
      "Reject H0\n"
     ]
    }
   ],
   "source": [
    "if p_value<0.05:\n",
    "    print(\"Reject H0\")\n",
    "else:\n",
    "    print(\"Retain H0\")"
   ]
  },
  {
   "cell_type": "markdown",
   "id": "8503d2a8",
   "metadata": {},
   "source": [
    "# Paired T-test "
   ]
  },
  {
   "cell_type": "markdown",
   "id": "b07bec7e",
   "metadata": {},
   "source": [
    "_when you want to check how different samples from the same group are, you can go for a paired test_"
   ]
  },
  {
   "cell_type": "code",
   "execution_count": 31,
   "id": "4fb99123",
   "metadata": {},
   "outputs": [],
   "source": [
    "weight1=[10,12,13,23,22,24,32,33,23,23,45,55,44,34,43,32,12,16,17,27,26,38,37,39,44,46]\n",
    "weight2=weight1+stats.norm.rvs(scale=5,loc=1.25,size=26)"
   ]
  },
  {
   "cell_type": "code",
   "execution_count": 32,
   "id": "7b77ec0a",
   "metadata": {},
   "outputs": [
    {
     "name": "stdout",
     "output_type": "stream",
     "text": [
      "[10, 12, 13, 23, 22, 24, 32, 33, 23, 23, 45, 55, 44, 34, 43, 32, 12, 16, 17, 27, 26, 38, 37, 39, 44, 46]\n",
      "[14.46650723 11.01052476 25.94517114 22.68338568 22.95191218 26.22084166\n",
      " 34.68439649 34.50929846 24.50775472 23.15206373 43.48371751 54.38044565\n",
      " 39.32791571 32.60913411 40.93233056 31.08131758 11.02377963 16.54020387\n",
      " 20.51200471 26.70268717 27.70398482 40.60133295 36.67754087 39.52512212\n",
      " 47.02685282 38.75540206]\n"
     ]
    }
   ],
   "source": [
    "print(weight1)\n",
    "print(weight2)"
   ]
  },
  {
   "cell_type": "code",
   "execution_count": 33,
   "id": "8da94ea6",
   "metadata": {},
   "outputs": [],
   "source": [
    "weight_df=pd.DataFrame({\"weight_10\":np.array(weight1),\"weight_20\":np.array(weight2),\"weight_change\":np.array(weight2)-np.array(weight1)})"
   ]
  },
  {
   "cell_type": "code",
   "execution_count": 34,
   "id": "2b8cd5b9",
   "metadata": {},
   "outputs": [
    {
     "data": {
      "text/html": [
       "<div>\n",
       "<style scoped>\n",
       "    .dataframe tbody tr th:only-of-type {\n",
       "        vertical-align: middle;\n",
       "    }\n",
       "\n",
       "    .dataframe tbody tr th {\n",
       "        vertical-align: top;\n",
       "    }\n",
       "\n",
       "    .dataframe thead th {\n",
       "        text-align: right;\n",
       "    }\n",
       "</style>\n",
       "<table border=\"1\" class=\"dataframe\">\n",
       "  <thead>\n",
       "    <tr style=\"text-align: right;\">\n",
       "      <th></th>\n",
       "      <th>weight_10</th>\n",
       "      <th>weight_20</th>\n",
       "      <th>weight_change</th>\n",
       "    </tr>\n",
       "  </thead>\n",
       "  <tbody>\n",
       "    <tr>\n",
       "      <th>0</th>\n",
       "      <td>10</td>\n",
       "      <td>14.466507</td>\n",
       "      <td>4.466507</td>\n",
       "    </tr>\n",
       "    <tr>\n",
       "      <th>1</th>\n",
       "      <td>12</td>\n",
       "      <td>11.010525</td>\n",
       "      <td>-0.989475</td>\n",
       "    </tr>\n",
       "    <tr>\n",
       "      <th>2</th>\n",
       "      <td>13</td>\n",
       "      <td>25.945171</td>\n",
       "      <td>12.945171</td>\n",
       "    </tr>\n",
       "    <tr>\n",
       "      <th>3</th>\n",
       "      <td>23</td>\n",
       "      <td>22.683386</td>\n",
       "      <td>-0.316614</td>\n",
       "    </tr>\n",
       "    <tr>\n",
       "      <th>4</th>\n",
       "      <td>22</td>\n",
       "      <td>22.951912</td>\n",
       "      <td>0.951912</td>\n",
       "    </tr>\n",
       "    <tr>\n",
       "      <th>5</th>\n",
       "      <td>24</td>\n",
       "      <td>26.220842</td>\n",
       "      <td>2.220842</td>\n",
       "    </tr>\n",
       "    <tr>\n",
       "      <th>6</th>\n",
       "      <td>32</td>\n",
       "      <td>34.684396</td>\n",
       "      <td>2.684396</td>\n",
       "    </tr>\n",
       "    <tr>\n",
       "      <th>7</th>\n",
       "      <td>33</td>\n",
       "      <td>34.509298</td>\n",
       "      <td>1.509298</td>\n",
       "    </tr>\n",
       "    <tr>\n",
       "      <th>8</th>\n",
       "      <td>23</td>\n",
       "      <td>24.507755</td>\n",
       "      <td>1.507755</td>\n",
       "    </tr>\n",
       "    <tr>\n",
       "      <th>9</th>\n",
       "      <td>23</td>\n",
       "      <td>23.152064</td>\n",
       "      <td>0.152064</td>\n",
       "    </tr>\n",
       "    <tr>\n",
       "      <th>10</th>\n",
       "      <td>45</td>\n",
       "      <td>43.483718</td>\n",
       "      <td>-1.516282</td>\n",
       "    </tr>\n",
       "    <tr>\n",
       "      <th>11</th>\n",
       "      <td>55</td>\n",
       "      <td>54.380446</td>\n",
       "      <td>-0.619554</td>\n",
       "    </tr>\n",
       "    <tr>\n",
       "      <th>12</th>\n",
       "      <td>44</td>\n",
       "      <td>39.327916</td>\n",
       "      <td>-4.672084</td>\n",
       "    </tr>\n",
       "    <tr>\n",
       "      <th>13</th>\n",
       "      <td>34</td>\n",
       "      <td>32.609134</td>\n",
       "      <td>-1.390866</td>\n",
       "    </tr>\n",
       "    <tr>\n",
       "      <th>14</th>\n",
       "      <td>43</td>\n",
       "      <td>40.932331</td>\n",
       "      <td>-2.067669</td>\n",
       "    </tr>\n",
       "    <tr>\n",
       "      <th>15</th>\n",
       "      <td>32</td>\n",
       "      <td>31.081318</td>\n",
       "      <td>-0.918682</td>\n",
       "    </tr>\n",
       "    <tr>\n",
       "      <th>16</th>\n",
       "      <td>12</td>\n",
       "      <td>11.023780</td>\n",
       "      <td>-0.976220</td>\n",
       "    </tr>\n",
       "    <tr>\n",
       "      <th>17</th>\n",
       "      <td>16</td>\n",
       "      <td>16.540204</td>\n",
       "      <td>0.540204</td>\n",
       "    </tr>\n",
       "    <tr>\n",
       "      <th>18</th>\n",
       "      <td>17</td>\n",
       "      <td>20.512005</td>\n",
       "      <td>3.512005</td>\n",
       "    </tr>\n",
       "    <tr>\n",
       "      <th>19</th>\n",
       "      <td>27</td>\n",
       "      <td>26.702687</td>\n",
       "      <td>-0.297313</td>\n",
       "    </tr>\n",
       "    <tr>\n",
       "      <th>20</th>\n",
       "      <td>26</td>\n",
       "      <td>27.703985</td>\n",
       "      <td>1.703985</td>\n",
       "    </tr>\n",
       "    <tr>\n",
       "      <th>21</th>\n",
       "      <td>38</td>\n",
       "      <td>40.601333</td>\n",
       "      <td>2.601333</td>\n",
       "    </tr>\n",
       "    <tr>\n",
       "      <th>22</th>\n",
       "      <td>37</td>\n",
       "      <td>36.677541</td>\n",
       "      <td>-0.322459</td>\n",
       "    </tr>\n",
       "    <tr>\n",
       "      <th>23</th>\n",
       "      <td>39</td>\n",
       "      <td>39.525122</td>\n",
       "      <td>0.525122</td>\n",
       "    </tr>\n",
       "    <tr>\n",
       "      <th>24</th>\n",
       "      <td>44</td>\n",
       "      <td>47.026853</td>\n",
       "      <td>3.026853</td>\n",
       "    </tr>\n",
       "    <tr>\n",
       "      <th>25</th>\n",
       "      <td>46</td>\n",
       "      <td>38.755402</td>\n",
       "      <td>-7.244598</td>\n",
       "    </tr>\n",
       "  </tbody>\n",
       "</table>\n",
       "</div>"
      ],
      "text/plain": [
       "    weight_10  weight_20  weight_change\n",
       "0          10  14.466507       4.466507\n",
       "1          12  11.010525      -0.989475\n",
       "2          13  25.945171      12.945171\n",
       "3          23  22.683386      -0.316614\n",
       "4          22  22.951912       0.951912\n",
       "5          24  26.220842       2.220842\n",
       "6          32  34.684396       2.684396\n",
       "7          33  34.509298       1.509298\n",
       "8          23  24.507755       1.507755\n",
       "9          23  23.152064       0.152064\n",
       "10         45  43.483718      -1.516282\n",
       "11         55  54.380446      -0.619554\n",
       "12         44  39.327916      -4.672084\n",
       "13         34  32.609134      -1.390866\n",
       "14         43  40.932331      -2.067669\n",
       "15         32  31.081318      -0.918682\n",
       "16         12  11.023780      -0.976220\n",
       "17         16  16.540204       0.540204\n",
       "18         17  20.512005       3.512005\n",
       "19         27  26.702687      -0.297313\n",
       "20         26  27.703985       1.703985\n",
       "21         38  40.601333       2.601333\n",
       "22         37  36.677541      -0.322459\n",
       "23         39  39.525122       0.525122\n",
       "24         44  47.026853       3.026853\n",
       "25         46  38.755402      -7.244598"
      ]
     },
     "execution_count": 34,
     "metadata": {},
     "output_type": "execute_result"
    }
   ],
   "source": [
    "weight_df"
   ]
  },
  {
   "cell_type": "code",
   "execution_count": 35,
   "id": "90aef032",
   "metadata": {},
   "outputs": [],
   "source": [
    "_,p_value=stats.ttest_rel(a=weight1,b=weight2)"
   ]
  },
  {
   "cell_type": "code",
   "execution_count": 36,
   "id": "d5f41cd5",
   "metadata": {},
   "outputs": [
    {
     "name": "stdout",
     "output_type": "stream",
     "text": [
      "Retain H0\n"
     ]
    }
   ],
   "source": [
    "if p_value<0.05:\n",
    "    print(\"Reject H0\")\n",
    "else:\n",
    "    print(\"Retain H0\")"
   ]
  },
  {
   "cell_type": "code",
   "execution_count": null,
   "id": "f20c9aa9",
   "metadata": {},
   "outputs": [],
   "source": []
  }
 ],
 "metadata": {
  "kernelspec": {
   "display_name": "Python 3 (ipykernel)",
   "language": "python",
   "name": "python3"
  },
  "language_info": {
   "codemirror_mode": {
    "name": "ipython",
    "version": 3
   },
   "file_extension": ".py",
   "mimetype": "text/x-python",
   "name": "python",
   "nbconvert_exporter": "python",
   "pygments_lexer": "ipython3",
   "version": "3.9.7"
  }
 },
 "nbformat": 4,
 "nbformat_minor": 5
}
